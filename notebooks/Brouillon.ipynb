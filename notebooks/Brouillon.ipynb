{
 "cells": [
  {
   "cell_type": "code",
   "execution_count": null,
   "metadata": {},
   "outputs": [],
   "source": [
    "import matplotlib.pyplot as plt\n",
    "import numpy as np\n",
    "import pandas as pd\n",
    "import seaborn as sns"
   ]
  },
  {
   "cell_type": "markdown",
   "metadata": {},
   "source": [
    "# 1. Dataset import #"
   ]
  },
  {
   "cell_type": "code",
   "execution_count": null,
   "metadata": {},
   "outputs": [],
   "source": [
    "data = pd.read_csv(\n",
    "    \"c:\\\\Users\\\\DF6610\\\\Documents\\\\ProjectAppauto\\\\welddb\\\\welddb.data\",\n",
    "    delim_whitespace=True,\n",
    "    na_values=\"N\",\n",
    ")"
   ]
  },
  {
   "cell_type": "code",
   "execution_count": null,
   "metadata": {},
   "outputs": [],
   "source": [
    "columns = [\n",
    "    \"Carbon concentration / (weight%)\",\n",
    "    \"Silicon concentration / (weight%)\",\n",
    "    \"Manganese concentration / (weight%)\",\n",
    "    \"Sulphur concentration / (weight%)\",\n",
    "    \"Phosphorus concentration / (weight%)\",\n",
    "    \"Nickel concentration / (weight%)\",\n",
    "    \"Chromium concentration / (weight%)\",\n",
    "    \"Molybdenum concentration / (weight%)\",\n",
    "    \"Vanadium concentration / (weight%)\",\n",
    "    \"Copper concentration / (weight%)\",\n",
    "    \"Cobalt concentration / (weight%)\",\n",
    "    \"Tungsten concentration / (weight%)\",\n",
    "    \"Oxygen concentration / parts per million by weight\",\n",
    "    \"Titanium concentration / parts per million by weight\",\n",
    "    \"Nitrogen concentration / parts per million by weight\",\n",
    "    \"Aluminium concentration / parts per million by weight\",\n",
    "    \"Boron concentration / parts per million by weight\",\n",
    "    \"Niobium concentration / parts per million by weight\",\n",
    "    \"Tin concentration / parts per million by weight\",\n",
    "    \"Arsenic concentration / parts per million by weight\",\n",
    "    \"Antimony concentration / parts per million by weight\",\n",
    "    \"Current / A\",\n",
    "    \"Voltage / V\",\n",
    "    \"AC or DC\",\n",
    "    \"Electrode positive or negative\",\n",
    "    \"Heat input / kJ/mm\",\n",
    "    \"Interpass temperature / deg C\",\n",
    "    \"Type of weld\",\n",
    "    \"Post weld heat treatment temperature / deg C\",\n",
    "    \"Post weld heat treatment time / hours\",\n",
    "    \"Yield strength / MPa\",\n",
    "    \"Ultimate tensile strength / MPa\",\n",
    "    \"Elongation / %\",\n",
    "    \"Reduction of Area / %\",\n",
    "    \"Charpy temperature / deg C\",\n",
    "    \"Charpy impact toughness / J\",\n",
    "    \"Hardness / kg/mm2\",\n",
    "    \"50 % FATT\",\n",
    "    \"Primary ferrite in microstructure / %\",\n",
    "    \"Ferrite with second phase / %\",\n",
    "    \"Acicular ferrite / %\",\n",
    "    \"Martensite / %\",\n",
    "    \"Ferrite with carbide aggregate / %\",\n",
    "    \"Weld ID\",\n",
    "]"
   ]
  },
  {
   "cell_type": "code",
   "execution_count": null,
   "metadata": {},
   "outputs": [],
   "source": [
    "data.columns = columns\n",
    "data.head()"
   ]
  },
  {
   "cell_type": "code",
   "execution_count": null,
   "metadata": {},
   "outputs": [],
   "source": [
    "# data.to_excel('data.xlsx')\n",
    "# visualiser les données sur excel"
   ]
  },
  {
   "cell_type": "markdown",
   "metadata": {},
   "source": [
    "# 2. Data Cleaning #"
   ]
  },
  {
   "cell_type": "code",
   "execution_count": null,
   "metadata": {},
   "outputs": [],
   "source": [
    "print(\"le nombre de lignes dans le dataset :\" + str(data.shape[0]))\n",
    "print(\"le nombre de colonnes dans le dataset :\" + str(data.shape[1]))"
   ]
  },
  {
   "cell_type": "markdown",
   "metadata": {},
   "source": [
    "- Hardness / kg/mm² : Une mesure de la dureté du matériau soudé, qui est souvent liée à la qualité de la soudure.\n",
    "- Yield strength / MPa ou Ultimate tensile strength / MPa : Ces deux mesures de résistance pourraient également servir de variable cible, car elles reflètent la capacité du matériau à résister à la déformation ou à la rupture.\n",
    "- Elongation / % ou Reduction of Area / % : Ces mesures sont souvent utilisées pour évaluer la ductilité et la ténacité d'un matériau, ce qui peut être pertinent pour la qualité des soudures."
   ]
  },
  {
   "cell_type": "markdown",
   "metadata": {},
   "source": [
    "2.1 Data Cleaning : \n",
    "\n",
    "    -  Colonne \"Sulphur concentration / (weight%)\" remplacer les points par des ,\n",
    "    -  Colonne \"Sulphur concentration / (weight%)\" remplacer les <0,002 par 0,002\n",
    "    -  Colonne \"Molybedunum concentration / (weight%)\" remplacer les points par des ,\n",
    "    -  Colonne \"Molybedunum concentration / (weight%)\" remplacer les <0,01 par 0,01\n",
    "    - idem Vanadium, copper, cobalt, thungsten, Titanium concentration / parts per million by weight, aluminium, Boron, Niobium, Tin, Arsenic, Antimony\n",
    "    -  pour Nitrogen  : \"67tot33res\" pourrait signifier une concentration totale de 67 ppm, dont 33 ppm correspondent à une partie spécifique (comme un résidu ou un sous-composant) => On ne va considérer que 67ppm\n",
    "\n",
    "\n",
    "\n"
   ]
  },
  {
   "cell_type": "markdown",
   "metadata": {},
   "source": [
    "2.2 Data Cleaning :\n",
    "\n",
    "- Transformer toutes les concentrations ppm en % en utilisant la formule excel : \n",
    "    Concentration en % =  Concentration en ppm / 10 000\n",
    "- Interpass temperature / deg C : transformer les valeurs 150-200 par 175 (la moyenne)\n",
    "- pour la hardnesss /kg/mm2 : 143 HV30 correspond directement à 143 kgf/mm². Il n'y a pas de conversion supplémentaire à effectuer, car la dureté Vickers est déjà exprimée dans cette unité. on élimine donc les HV30 de cette colonne- Primary ferrite in microstructure / % on remplace les <1 par 1\n",
    "\n",
    "\n",
    "\n",
    "\n"
   ]
  },
  {
   "cell_type": "code",
   "execution_count": null,
   "metadata": {},
   "outputs": [],
   "source": [
    "# Nouvel import des données\n",
    "df = pd.read_excel(\"c:\\\\Users\\\\DF6610\\\\Documents\\\\ProjectAppauto\\\\data.xlsx\")\n",
    "df.head()"
   ]
  },
  {
   "cell_type": "code",
   "execution_count": null,
   "metadata": {},
   "outputs": [],
   "source": [
    "# On définit Weld Id comme index de notre dataframe\n",
    "df.set_index([\"Weld ID\"])"
   ]
  },
  {
   "cell_type": "markdown",
   "metadata": {},
   "source": [
    "2.3 Data Cleaning : missing values"
   ]
  },
  {
   "cell_type": "code",
   "execution_count": null,
   "metadata": {},
   "outputs": [],
   "source": [
    "df.replace(\"N\", np.nan, inplace=True)"
   ]
  },
  {
   "cell_type": "code",
   "execution_count": null,
   "metadata": {},
   "outputs": [],
   "source": [
    "df.isnull().sum()"
   ]
  },
  {
   "cell_type": "markdown",
   "metadata": {},
   "source": [
    "On remarque qu'il y a énormément de valeurs manquantes : "
   ]
  },
  {
   "cell_type": "code",
   "execution_count": null,
   "metadata": {},
   "outputs": [],
   "source": [
    "# Les lignes où les concentrations en sulfure sont manquantes sont très similaires : il est donc cohérent de les remplacer par la même valeur\n",
    "df[df[\"Sulphur concentration / (weight%)\"].isnull()]"
   ]
  },
  {
   "cell_type": "code",
   "execution_count": null,
   "metadata": {},
   "outputs": [],
   "source": [
    "# On fait une étude explorative de la colonne Sulphur concentration / (weight%)\n",
    "df[\"Sulphur concentration / (weight%)\"].describe()"
   ]
  },
  {
   "cell_type": "code",
   "execution_count": null,
   "metadata": {},
   "outputs": [],
   "source": [
    "# Tracer le graphique de distribution\n",
    "plt.figure(figsize=(10, 6))\n",
    "sns.histplot(df[\"Sulphur concentration / (weight%)\"], bins=10, kde=True)\n",
    "plt.title(\"Distribution de la concentration de soufre\")\n",
    "plt.xlabel(\"Concentration de soufre / (weight%)\")\n",
    "plt.ylabel(\"Fréquence\")\n",
    "plt.grid(True)\n",
    "plt.show()"
   ]
  },
  {
   "cell_type": "code",
   "execution_count": null,
   "metadata": {},
   "outputs": [],
   "source": [
    "# On remplace ces valeurs manquantes par la moyenne des valeurs de la concentration de sulfure la colonne n'ayant pas énormément d'outliers\n",
    "\n",
    "df[\"Sulphur concentration / (weight%)\"].fillna(0.00953, inplace=True)"
   ]
  },
  {
   "cell_type": "code",
   "execution_count": null,
   "metadata": {},
   "outputs": [],
   "source": [
    "# Idem pour le phosphore\n",
    "df[df[\"Phosphorus concentration / (weight%)\"].isnull()]"
   ]
  },
  {
   "cell_type": "code",
   "execution_count": null,
   "metadata": {},
   "outputs": [],
   "source": [
    "# On fait une étude explorative de la colonne Phosphorus concentration / (weight%)\n",
    "df[\"Phosphorus concentration / (weight%)\"].describe()"
   ]
  },
  {
   "cell_type": "code",
   "execution_count": null,
   "metadata": {},
   "outputs": [],
   "source": [
    "# Tracer le graphique de distribution\n",
    "plt.figure(figsize=(10, 6))\n",
    "sns.histplot(df[\"Phosphorus concentration / (weight%)\"], bins=10, kde=True)\n",
    "plt.title(\"Distribution de la concentration de phosphore\")\n",
    "plt.xlabel(\"Concentration de phosphore / (weight%)\")\n",
    "plt.ylabel(\"Fréquence\")\n",
    "plt.grid(True)\n",
    "plt.show()"
   ]
  },
  {
   "cell_type": "code",
   "execution_count": null,
   "metadata": {},
   "outputs": [],
   "source": [
    "df[\"Phosphorus concentration / (weight%)\"].fillna(0.012953, inplace=True)"
   ]
  },
  {
   "cell_type": "code",
   "execution_count": null,
   "metadata": {},
   "outputs": [],
   "source": [
    "df[\"Phosphorus concentration / (weight%)\"].isnull().any()"
   ]
  },
  {
   "cell_type": "code",
   "execution_count": null,
   "metadata": {},
   "outputs": [],
   "source": [
    "df[\"Nickel concentration / (weight%)\"].fillna(\n",
    "    df[\"Nickel concentration / (weight%)\"].mean(), inplace=True\n",
    ")\n",
    "df[\"Chromium concentration / (weight%)\"].fillna(\n",
    "    df[\"Chromium concentration / (weight%)\"].mean(), inplace=True\n",
    ")\n",
    "df[\"Molybdenum concentration / (weight%)\"].fillna(\n",
    "    df[\"Molybdenum concentration / (weight%)\"].mean(), inplace=True\n",
    ")\n",
    "df[\"Vanadium concentration / (weight%)\"].fillna(\n",
    "    df[\"Vanadium concentration / (weight%)\"].mean(), inplace=True\n",
    ")\n",
    "df[\"Copper concentration / (weight%)\"].fillna(\n",
    "    df[\"Copper concentration / (weight%)\"].mean(), inplace=True\n",
    ")\n",
    "df[\"Cobalt concentration / (weight%)\"].fillna(\n",
    "    df[\"Cobalt concentration / (weight%)\"].mean(), inplace=True\n",
    ")\n",
    "df[\"Tungsten concentration / (weight%)\"].fillna(\n",
    "    df[\"Tungsten concentration / (weight%)\"].mean(), inplace=True\n",
    ")\n",
    "df[\"Oxygen concentration / weight%\"].fillna(\n",
    "    df[\"Oxygen concentration / weight%\"].mean(), inplace=True\n",
    ")\n",
    "df[\"Titanium concentration /  weight%\"].fillna(\n",
    "    df[\"Titanium concentration /  weight%\"].mean(), inplace=True\n",
    ")\n",
    "df[\"Nitrogen concentration / weight%\"].fillna(\n",
    "    df[\"Nitrogen concentration / weight%\"].mean(), inplace=True\n",
    ")\n",
    "df[\"Aluminium concentration / weight%\"].fillna(\n",
    "    df[\"Aluminium concentration / weight%\"].mean(), inplace=True\n",
    ")\n",
    "df[\"Boron concentration / weight%\"].fillna(\n",
    "    df[\"Boron concentration / weight%\"].mean(), inplace=True\n",
    ")\n",
    "df[\"Niobium concentration / weight%\"].fillna(\n",
    "    df[\"Niobium concentration / weight%\"].mean(), inplace=True\n",
    ")\n",
    "df[\"Tin concentration / weight%\"].fillna(df[\"Tin concentration / weight%\"].mean(), inplace=True)\n",
    "df[\"Arsenic concentration / weight%\"].fillna(\n",
    "    df[\"Arsenic concentration / weight%\"].mean(), inplace=True\n",
    ")\n",
    "df[\"Antimony concentration /  weight%\"].fillna(\n",
    "    df[\"Antimony concentration /  weight%\"].mean(), inplace=True\n",
    ")"
   ]
  },
  {
   "cell_type": "code",
   "execution_count": null,
   "metadata": {},
   "outputs": [],
   "source": [
    "df.isnull().sum()"
   ]
  },
  {
   "cell_type": "code",
   "execution_count": null,
   "metadata": {},
   "outputs": [],
   "source": [
    "# On va s'intéresser aux valeurs manquantes de courant et de voltage\n",
    "# Tracer le graphique de distribution\n",
    "plt.figure(figsize=(10, 6))\n",
    "sns.histplot(df[\"Voltage / V\"], bins=10, kde=True)\n",
    "plt.title(\"Distribution du voltage\")\n",
    "plt.xlabel(\"Voltage\")\n",
    "plt.ylabel(\"Fréquence\")\n",
    "plt.grid(True)\n",
    "plt.show()"
   ]
  },
  {
   "cell_type": "code",
   "execution_count": null,
   "metadata": {},
   "outputs": [],
   "source": [
    "# On va s'intéresser aux valeurs manquantes de courant et de voltage\n",
    "# Tracer le graphique de distribution\n",
    "plt.figure(figsize=(10, 6))\n",
    "sns.histplot(df[\"Current / A\"], bins=10, kde=True)\n",
    "plt.title(\"Distribution du courant\")\n",
    "plt.xlabel(\"Courant\")\n",
    "plt.ylabel(\"Fréquence\")\n",
    "plt.grid(True)\n",
    "plt.show()"
   ]
  },
  {
   "cell_type": "markdown",
   "metadata": {},
   "source": [
    "# Distribution pas très symétriques, remplacer par la moyenne serait une mauvaise idée\n"
   ]
  },
  {
   "cell_type": "code",
   "execution_count": null,
   "metadata": {},
   "outputs": [],
   "source": [
    "import pandas as pd\n",
    "\n",
    "# Exemple de DataFrame avec une colonne d'identifiants\n",
    "data_exple = {\"ID\": [\"abcd123\", \"abc124\", \"abcd125\", \"def456\", \"def457\", \"ghi789\", \"ghi7abc\"]}\n",
    "\n",
    "df_exple = pd.DataFrame(data_exple)\n",
    "\n",
    "\n",
    "# Fonction pour trouver le plus long préfixe commun\n",
    "def find_longest_common_prefix(ids):\n",
    "    if not ids:\n",
    "        return \"\"\n",
    "\n",
    "    prefix = ids[0]  # Commencer avec le premier identifiant\n",
    "    for id in ids[1:]:\n",
    "        while (\n",
    "            not id.startswith(prefix) and prefix\n",
    "        ):  # Réduire le préfixe jusqu'à ce qu'il corresponde\n",
    "            prefix = prefix[:-1]\n",
    "    return prefix\n",
    "\n",
    "\n",
    "# Appliquer la fonction à chaque identifiant pour déterminer le préfixe commun\n",
    "def get_common_prefix(current_id, ids):\n",
    "    # Chercher le préfixe commun uniquement parmi ceux qui partagent un préfixe similaire\n",
    "    return find_longest_common_prefix([id for id in ids if id.startswith(current_id[:3])])\n",
    "\n",
    "\n",
    "# Appliquer la fonction pour chaque ID\n",
    "df_exple[\"Common_Prefix\"] = df_exple[\"ID\"].apply(\n",
    "    lambda x: get_common_prefix(x, df_exple[\"ID\"].tolist())\n",
    ")\n",
    "\n",
    "print(df_exple)"
   ]
  },
  {
   "cell_type": "code",
   "execution_count": null,
   "metadata": {},
   "outputs": [],
   "source": [
    "df[\"Common_Prefix\"] = df[\"Weld ID\"].apply(lambda x: get_common_prefix(x, df[\"Weld ID\"].tolist()))\n",
    "df[\"Common_Prefix\"].value_counts()"
   ]
  },
  {
   "cell_type": "code",
   "execution_count": null,
   "metadata": {},
   "outputs": [],
   "source": [
    "# df_pivot= pd.pivot_table(df,values=['colonne1',...],index=,aggfunc={'colonne1':\"mean\",...})"
   ]
  },
  {
   "cell_type": "code",
   "execution_count": null,
   "metadata": {},
   "outputs": [],
   "source": [
    "df_pivot_current = pd.pivot_table(\n",
    "    df, values=[\"Current / A\"], index=[\"Common_Prefix\"], aggfunc={\"mean\"}\n",
    ")"
   ]
  },
  {
   "cell_type": "code",
   "execution_count": null,
   "metadata": {},
   "outputs": [],
   "source": [
    "df_pivot_current"
   ]
  },
  {
   "cell_type": "code",
   "execution_count": null,
   "metadata": {},
   "outputs": [],
   "source": []
  }
 ],
 "metadata": {
  "kernelspec": {
   "display_name": "base",
   "language": "python",
   "name": "python3"
  },
  "language_info": {
   "codemirror_mode": {
    "name": "ipython",
    "version": 3
   },
   "file_extension": ".py",
   "mimetype": "text/x-python",
   "name": "python",
   "nbconvert_exporter": "python",
   "pygments_lexer": "ipython3",
   "version": "3.12.4"
  }
 },
 "nbformat": 4,
 "nbformat_minor": 2
}
