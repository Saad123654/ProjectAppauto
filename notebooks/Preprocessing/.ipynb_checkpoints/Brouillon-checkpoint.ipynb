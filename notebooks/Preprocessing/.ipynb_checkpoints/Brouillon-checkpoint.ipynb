{
 "cells": [
  {
   "cell_type": "code",
   "execution_count": null,
   "id": "23389817-7135-45e1-8a04-63d845568b32",
   "metadata": {},
   "outputs": [],
   "source": [
    "from io import StringIO\n",
    "\n",
    "import matplotlib.pyplot as plt\n",
    "import numpy as np\n",
    "import pandas as pd\n",
    "import seaborn as sns\n",
    "from sklearn.decomposition import PCA\n",
    "from sklearn.preprocessing import StandardScaler"
   ]
  },
  {
   "cell_type": "markdown",
   "id": "d86f4ba5-fbc1-4927-a0ff-18135622ecbc",
   "metadata": {
    "jp-MarkdownHeadingCollapsed": true
   },
   "source": [
    "## I.Import des données ##"
   ]
  },
  {
   "cell_type": "code",
   "execution_count": null,
   "id": "13647486-1f34-444d-9069-030790252a47",
   "metadata": {},
   "outputs": [],
   "source": [
    "# Nettoyage manuel des espaces multiples dans le fichier\n",
    "file_path = \"c:\\\\Users\\\\DF6610\\\\Documents\\\\ProjectAppauto\\\\welddb\\\\welddb.data\"\n",
    "with open(file_path, \"r\") as file:\n",
    "    cleaned_lines = [\" \".join(line.split()) for line in file]\n",
    "\n",
    "# Conversion des lignes nettoyées en DataFrame\n",
    "\n",
    "data = pd.read_csv(StringIO(\"\\n\".join(cleaned_lines)), sep=\" \", na_values=\"N\", header=None)"
   ]
  },
  {
   "cell_type": "code",
   "execution_count": null,
   "id": "2a2fcc6c-3f49-497e-b121-f6ed1c422f96",
   "metadata": {},
   "outputs": [],
   "source": [
    "# La taille du dataset\n",
    "print(\"Le nombre de lignes est: \" + str(data.shape[0]))\n",
    "print(\"Le nombre de colonnes est: \" + str(data.shape[1]))"
   ]
  },
  {
   "cell_type": "code",
   "execution_count": null,
   "id": "5127873e-38e0-49f6-9cec-c4124e8e31ca",
   "metadata": {},
   "outputs": [],
   "source": [
    "columns = [\n",
    "    \"Carbon concentration / (weight%)\",\n",
    "    \"Silicon concentration / (weight%)\",\n",
    "    \"Manganese concentration / (weight%)\",\n",
    "    \"Sulphur concentration / (weight%)\",\n",
    "    \"Phosphorus concentration / (weight%)\",\n",
    "    \"Nickel concentration / (weight%)\",\n",
    "    \"Chromium concentration / (weight%)\",\n",
    "    \"Molybdenum concentration / (weight%)\",\n",
    "    \"Vanadium concentration / (weight%)\",\n",
    "    \"Copper concentration / (weight%)\",\n",
    "    \"Cobalt concentration / (weight%)\",\n",
    "    \"Tungsten concentration / (weight%)\",\n",
    "    \"Oxygen concentration / parts per million by weight\",\n",
    "    \"Titanium concentration / parts per million by weight\",\n",
    "    \"Nitrogen concentration / parts per million by weight\",\n",
    "    \"Aluminium concentration / parts per million by weight\",\n",
    "    \"Boron concentration / parts per million by weight\",\n",
    "    \"Niobium concentration / parts per million by weight\",\n",
    "    \"Tin concentration / parts per million by weight\",\n",
    "    \"Arsenic concentration / parts per million by weight\",\n",
    "    \"Antimony concentration / parts per million by weight\",\n",
    "    \"Current / A\",\n",
    "    \"Voltage / V\",\n",
    "    \"AC or DC\",\n",
    "    \"Electrode positive or negative\",\n",
    "    \"Heat input / kJ/mm\",\n",
    "    \"Interpass temperature / deg C\",\n",
    "    \"Type of weld\",\n",
    "    \"Post weld heat treatment temperature / deg C\",\n",
    "    \"Post weld heat treatment time / hours\",\n",
    "    \"Yield strength / MPa\",\n",
    "    \"Ultimate tensile strength / MPa\",\n",
    "    \"Elongation / %\",\n",
    "    \"Reduction of Area / %\",\n",
    "    \"Charpy temperature / deg C\",\n",
    "    \"Charpy impact toughness / J\",\n",
    "    \"Hardness / kg/mm2\",\n",
    "    \"50 % FATT\",\n",
    "    \"Primary ferrite in microstructure / %\",\n",
    "    \"Ferrite with second phase / %\",\n",
    "    \"Acicular ferrite / %\",\n",
    "    \"Martensite / %\",\n",
    "    \"Ferrite with carbide aggregate / %\",\n",
    "    \"Weld ID\",\n",
    "]"
   ]
  },
  {
   "cell_type": "code",
   "execution_count": null,
   "id": "d67d366c-c5a8-4da1-b579-7eb8ead99861",
   "metadata": {},
   "outputs": [],
   "source": [
    "data.columns = columns\n",
    "data.head()"
   ]
  },
  {
   "cell_type": "markdown",
   "id": "7495819d-a3fd-433a-bbcd-774278b0a496",
   "metadata": {
    "jp-MarkdownHeadingCollapsed": true
   },
   "source": [
    "## II.Groupement ID ##"
   ]
  },
  {
   "cell_type": "code",
   "execution_count": null,
   "id": "ed426e08-ca8d-4410-a18e-510386201bf7",
   "metadata": {},
   "outputs": [],
   "source": [
    "# Exemple de DataFrame avec une colonne d'identifiants\n",
    "data_exple = {\"ID\": [\"abcd123\", \"abc124\", \"abcd125\", \"def456\", \"def457\", \"ghi789\", \"ghi7abc\"]}\n",
    "\n",
    "df_exple = pd.DataFrame(data_exple)\n",
    "\n",
    "\n",
    "# Fonction pour trouver le plus long préfixe commun\n",
    "def find_longest_common_prefix(ids):\n",
    "    if not ids:\n",
    "        return \"\"\n",
    "\n",
    "    prefix = ids[0]  # Commencer avec le premier identifiant\n",
    "    for id in ids[1:]:\n",
    "        while (\n",
    "            not id.startswith(prefix) and prefix\n",
    "        ):  # Réduire le préfixe jusqu'à ce qu'il corresponde\n",
    "            prefix = prefix[:-1]\n",
    "    return prefix\n",
    "\n",
    "\n",
    "# Appliquer la fonction à chaque identifiant pour déterminer le préfixe commun\n",
    "def get_common_prefix(current_id, ids):\n",
    "    # Chercher le préfixe commun uniquement parmi ceux qui partagent un préfixe similaire\n",
    "    return find_longest_common_prefix([id for id in ids if id.startswith(current_id[:3])])\n",
    "\n",
    "\n",
    "# Appliquer la fonction pour chaque ID\n",
    "df_exple[\"Common_Prefix\"] = df_exple[\"ID\"].apply(\n",
    "    lambda x: get_common_prefix(x, df_exple[\"ID\"].tolist())\n",
    ")\n",
    "\n",
    "df_exple"
   ]
  },
  {
   "cell_type": "code",
   "execution_count": null,
   "id": "c5fcd7a5-c032-490a-bb53-354a9fbfc872",
   "metadata": {},
   "outputs": [],
   "source": [
    "data[\"Common_Prefix\"] = data[\"Weld ID\"].apply(\n",
    "    lambda x: get_common_prefix(x, data[\"Weld ID\"].tolist())\n",
    ")\n",
    "data[\"Common_Prefix\"].value_counts()"
   ]
  },
  {
   "cell_type": "code",
   "execution_count": null,
   "id": "3694cc45-2a5f-4e76-9832-8368dcd79c6a",
   "metadata": {},
   "outputs": [],
   "source": [
    "# df_pivot= pd.pivot_table(df,values=['colonne1',...],index=,aggfunc={'colonne1':\"mean\",...})"
   ]
  },
  {
   "cell_type": "markdown",
   "id": "c5e4d091-6348-41d8-b11b-e5c17d4edf9a",
   "metadata": {},
   "source": [
    "## Remarque sur les variables cibles : \n",
    "- Hardness / kg/mm² : Une mesure de la dureté du matériau soudé, qui est souvent liée à la qualité de la soudure.\r\n",
    "- Yield strength / MPa ou Ultimate tensile strength / MPa : Ces deux mesures de résistance pourraient également servir de variable cible, car elles reflètent la capacité du matériau à résister à la déformation ou à la rupture.\r\n",
    "- Elongation / etou Reduction of Area / % : Ces mesures sont souvent utilisées pour évaluer la ductilité et la ténacité d'un matériau, ce qui peut être pertinent pour la qualité des soudure##"
   ]
  },
  {
   "cell_type": "markdown",
   "id": "299d5c52-1136-46cf-8662-9b7931a2d98e",
   "metadata": {
    "jp-MarkdownHeadingCollapsed": true
   },
   "source": [
    "## Petit nettoyage ##"
   ]
  },
  {
   "cell_type": "code",
   "execution_count": null,
   "id": "e3b3ba43-8070-4eb1-b09a-11495e19f5cd",
   "metadata": {},
   "outputs": [],
   "source": [
    "# Fonction pour nettoyer les valeurs dans les colonnes numériques\n",
    "def clean_numeric_values(value):\n",
    "    if isinstance(value, str) and \"<\" in value:\n",
    "        # Enlève le symbole '<' et convertit en float\n",
    "        return float(value.replace(\"<\", \"\").strip())\n",
    "    try:\n",
    "        # Essaye de convertir la valeur en float directement\n",
    "        return float(value)\n",
    "    except (ValueError, TypeError):\n",
    "        # Si la conversion échoue (ex. si c'est une chaîne non numérique), retourne la valeur originale\n",
    "        return value\n",
    "\n",
    "\n",
    "# Appliquer la fonction uniquement aux 21 premières colonnes\n",
    "data.iloc[:, :21] = data.iloc[:, :21].applymap(clean_numeric_values)\n",
    "\n",
    "# Affichage des premières lignes du DataFrame nettoyé\n",
    "data"
   ]
  },
  {
   "cell_type": "markdown",
   "id": "4062db4a-913e-4708-ac31-b22c22371835",
   "metadata": {},
   "source": [
    "## III.Missing values ##"
   ]
  },
  {
   "cell_type": "markdown",
   "id": "665d9343-9b21-43d6-bd23-e71949b60bf0",
   "metadata": {
    "jp-MarkdownHeadingCollapsed": true
   },
   "source": [
    "### III.Missing values : vision générale ###"
   ]
  },
  {
   "cell_type": "code",
   "execution_count": null,
   "id": "a9b0310f-8ad6-4f79-8592-1777f67e5eaa",
   "metadata": {},
   "outputs": [],
   "source": [
    "data.isnull().sum()"
   ]
  },
  {
   "cell_type": "code",
   "execution_count": null,
   "id": "c015a864-1892-41f8-bc75-7a35c773bcdc",
   "metadata": {},
   "outputs": [],
   "source": [
    "df = data"
   ]
  },
  {
   "cell_type": "markdown",
   "id": "c5f83626-4e50-4074-9131-ce5407101dde",
   "metadata": {},
   "source": [
    "#### Remarque: Beaucoup de valeurs manquantes ####"
   ]
  },
  {
   "cell_type": "markdown",
   "id": "4795f273-9f26-44af-9026-e6bc818ac760",
   "metadata": {
    "jp-MarkdownHeadingCollapsed": true
   },
   "source": [
    "### III.Missing values :  Sulphur concentration / (weight%) ###\n"
   ]
  },
  {
   "cell_type": "code",
   "execution_count": null,
   "id": "c3ab925f-7c8b-46af-87ce-669bdd350300",
   "metadata": {},
   "outputs": [],
   "source": [
    "data[data[\"Sulphur concentration / (weight%)\"].isnull()]"
   ]
  },
  {
   "cell_type": "code",
   "execution_count": null,
   "id": "d3794868-fdde-4cb0-8b71-a74aa1c1b3a5",
   "metadata": {},
   "outputs": [],
   "source": [
    "# Tracer le graphique de distribution\n",
    "plt.figure(figsize=(30, 6))\n",
    "sns.histplot(data[\"Sulphur concentration / (weight%)\"], bins=10, kde=True)\n",
    "plt.title(\"Distribution de la concentration de soufre\")\n",
    "plt.xlabel(\"Concentration de soufre / (weight%)\")\n",
    "plt.ylabel(\"Fréquence\")\n",
    "plt.show()"
   ]
  },
  {
   "cell_type": "code",
   "execution_count": null,
   "id": "072938be-6cc5-419f-8ea0-c86c273471e5",
   "metadata": {},
   "outputs": [],
   "source": [
    "df[\"Sulphur concentration / (weight%)\"].fillna(\n",
    "    df[\"Sulphur concentration / (weight%)\"].mean(), inplace=True\n",
    ")"
   ]
  },
  {
   "cell_type": "markdown",
   "id": "c1936bf5-eeb6-434f-9cfb-cf70baa63ed7",
   "metadata": {
    "jp-MarkdownHeadingCollapsed": true
   },
   "source": [
    "### III.Missing values :  Phosphorus concentration / (weight%) ###"
   ]
  },
  {
   "cell_type": "code",
   "execution_count": null,
   "id": "657329cd-a36e-4f28-914e-cefe80cc9541",
   "metadata": {},
   "outputs": [],
   "source": [
    "df[\"Phosphorus concentration / (weight%)\"].describe()"
   ]
  },
  {
   "cell_type": "code",
   "execution_count": null,
   "id": "bb2ad43c-f196-4701-aa64-ff5395d91e71",
   "metadata": {},
   "outputs": [],
   "source": [
    "df[df[\"Phosphorus concentration / (weight%)\"].isnull()]"
   ]
  },
  {
   "cell_type": "code",
   "execution_count": null,
   "id": "797de53c-59de-43b6-b87e-eb1f206ca772",
   "metadata": {},
   "outputs": [],
   "source": [
    "m = df[df[\"Common_Prefix\"] == \"Gar&K-1975-\"][\"Phosphorus concentration / (weight%)\"].mean()"
   ]
  },
  {
   "cell_type": "code",
   "execution_count": null,
   "id": "1d13a002-6f7c-4700-baed-cb1c077e81c8",
   "metadata": {},
   "outputs": [],
   "source": [
    "# Fill NaN values with the mean in the original DataFrame\n",
    "df.loc[df[\"Common_Prefix\"] == \"Gar&K-1975-\", \"Phosphorus concentration / (weight%)\"] = df.loc[\n",
    "    df[\"Common_Prefix\"] == \"Gar&K-1975-\", \"Phosphorus concentration / (weight%)\"\n",
    "].fillna(m)"
   ]
  },
  {
   "cell_type": "code",
   "execution_count": null,
   "id": "a8805212-4fa1-49cb-a22e-4f0f037440bf",
   "metadata": {},
   "outputs": [],
   "source": [
    "df[\"Phosphorus concentration / (weight%)\"].fillna(\n",
    "    df[\"Phosphorus concentration / (weight%)\"].mean(), inplace=True\n",
    ")"
   ]
  },
  {
   "cell_type": "markdown",
   "id": "3c193a3d-3129-4d51-a86e-093ac07d3386",
   "metadata": {
    "jp-MarkdownHeadingCollapsed": true
   },
   "source": [
    "### III.Missing values :  other concentrations / (weight%) ###"
   ]
  },
  {
   "cell_type": "code",
   "execution_count": null,
   "id": "6802ca21-de82-4e47-9cde-f5f294a8a323",
   "metadata": {},
   "outputs": [],
   "source": [
    "df[\"Nickel concentration / (weight%)\"].fillna(\n",
    "    df[\"Nickel concentration / (weight%)\"].mean(), inplace=True\n",
    ")\n",
    "df[\"Chromium concentration / (weight%)\"].fillna(\n",
    "    df[\"Chromium concentration / (weight%)\"].mean(), inplace=True\n",
    ")\n",
    "df[\"Molybdenum concentration / (weight%)\"].fillna(\n",
    "    df[\"Molybdenum concentration / (weight%)\"].mean(), inplace=True\n",
    ")\n",
    "df[\"Vanadium concentration / (weight%)\"].fillna(\n",
    "    df[\"Vanadium concentration / (weight%)\"].mean(), inplace=True\n",
    ")\n",
    "df[\"Copper concentration / (weight%)\"].fillna(\n",
    "    df[\"Copper concentration / (weight%)\"].mean(), inplace=True\n",
    ")\n",
    "df[\"Cobalt concentration / (weight%)\"].fillna(\n",
    "    df[\"Cobalt concentration / (weight%)\"].mean(), inplace=True\n",
    ")\n",
    "df[\"Tungsten concentration / (weight%)\"].fillna(\n",
    "    df[\"Tungsten concentration / (weight%)\"].mean(), inplace=True\n",
    ")\n",
    "df[\"Oxygen concentration / parts per million by weight\"].fillna(\n",
    "    df[\"Oxygen concentration / parts per million by weight\"].mean(), inplace=True\n",
    ")\n",
    "df[\"Titanium concentration / parts per million by weight\"].fillna(\n",
    "    df[\"Titanium concentration / parts per million by weight\"].mean(), inplace=True\n",
    ")"
   ]
  },
  {
   "cell_type": "code",
   "execution_count": null,
   "id": "93e7dad9-148f-492e-85c8-e398cb946b81",
   "metadata": {},
   "outputs": [],
   "source": [
    "df[\"Nitrogen concentration / parts per million by weight\"].fillna(\n",
    "    df[\"Nitrogen concentration / parts per million by weight\"].mean(), inplace=True\n",
    ")\n",
    "df[\"Aluminium concentration / parts per million by weight\"].fillna(\n",
    "    df[\"Aluminium concentration / parts per million by weight\"].mean(), inplace=True\n",
    ")\n",
    "df[\"Boron concentration / parts per million by weight\"].fillna(\n",
    "    df[\"Boron concentration / parts per million by weight\"].mean(), inplace=True\n",
    ")\n",
    "df[\"Niobium concentration / parts per million by weight\"].fillna(\n",
    "    df[\"Niobium concentration / parts per million by weight\"].mean(), inplace=True\n",
    ")\n",
    "df[\"Tin concentration / parts per million by weight\"].fillna(\n",
    "    df[\"Tin concentration / parts per million by weight\"].mean(), inplace=True\n",
    ")\n",
    "df[\"Arsenic concentration / parts per million by weight\"].fillna(\n",
    "    df[\"Arsenic concentration / parts per million by weight\"].mean(), inplace=True\n",
    ")\n",
    "df[\"Antimony concentration / parts per million by weight\"].fillna(\n",
    "    df[\"Antimony concentration / parts per million by weight\"].mean(), inplace=True\n",
    ")"
   ]
  },
  {
   "cell_type": "code",
   "execution_count": null,
   "id": "e8616270-cf8d-4551-80fc-517c7f62032a",
   "metadata": {},
   "outputs": [],
   "source": [
    "# Convert to numeric, coercing errors to NaN\n",
    "df[\"Nitrogen concentration / parts per million by weight\"] = pd.to_numeric(\n",
    "    df[\"Nitrogen concentration / parts per million by weight\"], errors=\"coerce\"\n",
    ")\n",
    "\n",
    "# Optionally, drop NaN values if you want to calculate the mean only for valid entries\n",
    "mean_nitrogen_concentration = df[\"Nitrogen concentration / parts per million by weight\"].mean()\n",
    "print(mean_nitrogen_concentration)"
   ]
  },
  {
   "cell_type": "code",
   "execution_count": null,
   "id": "cdab2112-3fb5-4c2d-8a0a-1906963a4f2b",
   "metadata": {},
   "outputs": [],
   "source": [
    "df[\"Nitrogen concentration / parts per million by weight\"].fillna(\n",
    "    df[\"Nitrogen concentration / parts per million by weight\"].mean(), inplace=True\n",
    ")\n",
    "df[\"Aluminium concentration / parts per million by weight\"].fillna(\n",
    "    df[\"Aluminium concentration / parts per million by weight\"].mean(), inplace=True\n",
    ")\n",
    "df[\"Boron concentration / parts per million by weight\"].fillna(\n",
    "    df[\"Boron concentration / parts per million by weight\"].mean(), inplace=True\n",
    ")\n",
    "df[\"Niobium concentration / parts per million by weight\"].fillna(\n",
    "    df[\"Niobium concentration / parts per million by weight\"].mean(), inplace=True\n",
    ")\n",
    "df[\"Tin concentration / parts per million by weight\"].fillna(\n",
    "    df[\"Tin concentration / parts per million by weight\"].mean(), inplace=True\n",
    ")\n",
    "df[\"Arsenic concentration / parts per million by weight\"].fillna(\n",
    "    df[\"Arsenic concentration / parts per million by weight\"].mean(), inplace=True\n",
    ")\n",
    "df[\"Antimony concentration / parts per million by weight\"].fillna(\n",
    "    df[\"Antimony concentration / parts per million by weight\"].mean(), inplace=True\n",
    ")"
   ]
  },
  {
   "cell_type": "markdown",
   "id": "ea264dc5-7c90-4843-8f1d-65d289ee31c3",
   "metadata": {
    "jp-MarkdownHeadingCollapsed": true
   },
   "source": [
    "### III.Missing values :  current & Voltage ###"
   ]
  },
  {
   "cell_type": "code",
   "execution_count": null,
   "id": "f161523f-9210-4348-9371-31de37f5b6ef",
   "metadata": {},
   "outputs": [],
   "source": [
    "df[df[\"Current / A\"].isnull()][\"Common_Prefix\"].value_counts()"
   ]
  },
  {
   "cell_type": "code",
   "execution_count": null,
   "id": "d294706c-d0e8-4f71-9e6e-becad5ef0945",
   "metadata": {},
   "outputs": [],
   "source": [
    "evans_c = df[df[\"Common_Prefix\"] == \"Evans\"][\"Current / A\"].mean()\n",
    "evans_v = df[df[\"Common_Prefix\"] == \"Evans\"][\"Voltage / V\"].mean()"
   ]
  },
  {
   "cell_type": "code",
   "execution_count": null,
   "id": "289992cb-87f7-4c44-9392-18770a6fd69c",
   "metadata": {},
   "outputs": [],
   "source": [
    "# Fill NaN values with the mean in the original DataFrame\n",
    "df.loc[df[\"Common_Prefix\"] == \"Evans\", \"Current / A\"] = df.loc[\n",
    "    df[\"Common_Prefix\"] == \"Evans\", \"Current / A\"\n",
    "].fillna(evans_c)\n",
    "df.loc[df[\"Common_Prefix\"] == \"Evans\", \"Voltage / V\"] = df.loc[\n",
    "    df[\"Common_Prefix\"] == \"Evans\", \"Voltage / V\"\n",
    "].fillna(evans_v)"
   ]
  },
  {
   "cell_type": "code",
   "execution_count": null,
   "id": "d239b3b7-84a6-45d3-a95c-40caf9d2c1f7",
   "metadata": {},
   "outputs": [],
   "source": [
    "df[\"Current / A\"] = df[\"Current / A\"].fillna(df[\"Current / A\"].mean())\n",
    "df[\"Voltage / V\"] = df[\"Voltage / V\"].fillna(df[\"Voltage / V\"].mean())"
   ]
  },
  {
   "cell_type": "markdown",
   "id": "2d761154-18e3-47f8-8574-52d6f0c554fc",
   "metadata": {
    "jp-MarkdownHeadingCollapsed": true
   },
   "source": [
    "### III.Missing values :  AC or DC ###"
   ]
  },
  {
   "cell_type": "code",
   "execution_count": null,
   "id": "9f243552-4327-445b-8adb-55800967630c",
   "metadata": {},
   "outputs": [],
   "source": [
    "df[df[\"AC or DC\"].isnull()][\"Common_Prefix\"].value_counts()"
   ]
  },
  {
   "cell_type": "code",
   "execution_count": null,
   "id": "05ef2610-40ab-4b7b-a616-c1e991fc8aaa",
   "metadata": {},
   "outputs": [],
   "source": [
    "df[df[\"Common_Prefix\"] == \"Evans\"][\"AC or DC\"].value_counts()"
   ]
  },
  {
   "cell_type": "code",
   "execution_count": null,
   "id": "8a7a4774-e979-4c88-ab67-0ff6cf94e5c3",
   "metadata": {},
   "outputs": [],
   "source": [
    "df.loc[df[\"Common_Prefix\"] == \"Evans\", \"AC or DC\"] = df.loc[\n",
    "    df[\"Common_Prefix\"] == \"Evans\", \"AC or DC\"\n",
    "].fillna(\"DC\")"
   ]
  },
  {
   "cell_type": "code",
   "execution_count": null,
   "id": "4e29d162-6301-4334-925d-80da46d05888",
   "metadata": {},
   "outputs": [],
   "source": [
    "df[\"AC or DC\"] = df[\"AC or DC\"].fillna(\"o\")"
   ]
  },
  {
   "cell_type": "markdown",
   "id": "f3a6a1b5-d97a-4214-aa9d-6162d6018e8a",
   "metadata": {
    "jp-MarkdownHeadingCollapsed": true
   },
   "source": [
    "### III.Missing values :  Electrode positive ou négative ###"
   ]
  },
  {
   "cell_type": "code",
   "execution_count": null,
   "id": "fe33ff6d-b48c-4e07-90f3-0f01a7377b41",
   "metadata": {},
   "outputs": [],
   "source": [
    "df[df[\"Electrode positive or negative\"].isnull()][\"Common_Prefix\"].value_counts()"
   ]
  },
  {
   "cell_type": "code",
   "execution_count": null,
   "id": "372163f9-0e9d-45af-8a1b-1769d82f704d",
   "metadata": {},
   "outputs": [],
   "source": [
    "df[df[\"Common_Prefix\"] == \"Evans\"][\"Electrode positive or negative\"].value_counts()"
   ]
  },
  {
   "cell_type": "code",
   "execution_count": null,
   "id": "a96355e3-28f6-4d6d-a42d-42fd69c9b794",
   "metadata": {},
   "outputs": [],
   "source": [
    "df[\"Electrode positive or negative\"] = df[\"Electrode positive or negative\"].fillna(\"+\")"
   ]
  },
  {
   "cell_type": "markdown",
   "id": "41da50bf-f9e6-4bf2-b0e7-8a848a6256f5",
   "metadata": {
    "jp-MarkdownHeadingCollapsed": true
   },
   "source": [
    "### III.Missing values :  Post weld heat treatment temperature / deg C et \n",
    "\n",
    "Post weld heat treatment time / hours  ###"
   ]
  },
  {
   "cell_type": "code",
   "execution_count": null,
   "id": "57527e9e-a07d-48d2-a00c-6d58a8e1d620",
   "metadata": {},
   "outputs": [],
   "source": [
    "df[df[\"Post weld heat treatment time / hours\"].isnull()][\"Common_Prefix\"].value_counts()"
   ]
  },
  {
   "cell_type": "code",
   "execution_count": null,
   "id": "ece31f69-1317-498a-9aaf-e80bfb768029",
   "metadata": {},
   "outputs": [],
   "source": [
    "df[df[\"Common_Prefix\"] == \"Gar&K-1975-\"][\"Post weld heat treatment temperature / deg C\"].mean()"
   ]
  },
  {
   "cell_type": "code",
   "execution_count": null,
   "id": "4e5322b9-d526-486d-82cb-6c1e6f4ba570",
   "metadata": {},
   "outputs": [],
   "source": [
    "gark_t = df[df[\"Common_Prefix\"] == \"Gar&K-1975-\"][\n",
    "    \"Post weld heat treatment temperature / deg C\"\n",
    "].mean()\n",
    "gark_time = df[df[\"Common_Prefix\"] == \"Gar&K-1975-\"][\n",
    "    \"Post weld heat treatment time / hours\"\n",
    "].mean()"
   ]
  },
  {
   "cell_type": "code",
   "execution_count": null,
   "id": "2e1922be-3498-4878-98c2-b3181b4f3dd8",
   "metadata": {},
   "outputs": [],
   "source": [
    "df[\"Post weld heat treatment temperature / deg C\"] = df[\n",
    "    \"Post weld heat treatment temperature / deg C\"\n",
    "].fillna(gark_t)\n",
    "df[\"Post weld heat treatment time / hours\"] = df[\"Post weld heat treatment time / hours\"].fillna(\n",
    "    gark_time\n",
    ")"
   ]
  },
  {
   "cell_type": "markdown",
   "id": "0aed6349-f95a-4028-ae7b-a890b9f53557",
   "metadata": {
    "jp-MarkdownHeadingCollapsed": true
   },
   "source": [
    "### III.Missing values : Charpy   ###"
   ]
  },
  {
   "cell_type": "code",
   "execution_count": null,
   "id": "d87ca264-da24-427a-a8a0-262101ec3338",
   "metadata": {},
   "outputs": [],
   "source": [
    "df[df[\"Charpy impact toughness / J\"].isnull()][\"Common_Prefix\"].value_counts()"
   ]
  },
  {
   "cell_type": "code",
   "execution_count": null,
   "id": "338c31e8-039d-4adb-bc90-63d984b946a2",
   "metadata": {},
   "outputs": [],
   "source": [
    "evans_charpyJ = df[df[\"Common_Prefix\"] == \"Evans\"][\"Charpy impact toughness / J\"].mean()\n",
    "evanc_charpyC = df[df[\"Common_Prefix\"] == \"Evans\"][\"Charpy temperature / deg C\"].mean()"
   ]
  },
  {
   "cell_type": "code",
   "execution_count": null,
   "id": "fa3bfbb2-6144-4aa0-b810-e983c272cee8",
   "metadata": {},
   "outputs": [],
   "source": [
    "evans_charpyJ"
   ]
  },
  {
   "cell_type": "code",
   "execution_count": null,
   "id": "bd51e74b-433a-473f-a8dd-23d019b1b03d",
   "metadata": {},
   "outputs": [],
   "source": [
    "df.loc[df[\"Common_Prefix\"] == \"Evans\", \"Charpy impact toughness / J\"] = df.loc[\n",
    "    df[\"Common_Prefix\"] == \"Evans\", \"Charpy impact toughness / J\"\n",
    "].fillna(evans_charpyJ)\n",
    "df.loc[df[\"Common_Prefix\"] == \"Evans\", \"Charpy temperature / deg C\"] = df.loc[\n",
    "    df[\"Common_Prefix\"] == \"Evans\", \"Charpy temperature / deg C\"\n",
    "].fillna(evanc_charpyC)"
   ]
  },
  {
   "cell_type": "code",
   "execution_count": null,
   "id": "f90c86bc-a70c-48ea-841b-e0573a384242",
   "metadata": {},
   "outputs": [],
   "source": [
    "pant_charpyJ = df[df[\"Common_Prefix\"] == \"PantK-1990-\"][\"Charpy impact toughness / J\"].mean()\n",
    "pant_charpyC = df[df[\"Common_Prefix\"] == \"PantK-1990-\"][\"Charpy temperature / deg C\"].mean()"
   ]
  },
  {
   "cell_type": "code",
   "execution_count": null,
   "id": "03d10142-135d-4d17-bc61-536e45659648",
   "metadata": {},
   "outputs": [],
   "source": [
    "df.loc[df[\"Common_Prefix\"] == \"PantK-1990-\", \"Charpy impact toughness / J\"] = df.loc[\n",
    "    df[\"Common_Prefix\"] == \"PantK-1990-\", \"Charpy impact toughness / J\"\n",
    "].fillna(pant_charpyJ)\n",
    "df.loc[df[\"Common_Prefix\"] == \"PantK-1990-\", \"Charpy temperature / deg C\"] = df.loc[\n",
    "    df[\"Common_Prefix\"] == \"PantK-1990-\", \"Charpy temperature / deg C\"\n",
    "].fillna(pant_charpyC)"
   ]
  },
  {
   "cell_type": "code",
   "execution_count": null,
   "id": "9149f0e7-89b4-4c4e-8b9d-49028f1d1081",
   "metadata": {},
   "outputs": [],
   "source": [
    "sven_charpyJ = df[df[\"Common_Prefix\"] == \"SvenGret-1990-\"][\"Charpy impact toughness / J\"].mean()\n",
    "sven_charpyC = df[df[\"Common_Prefix\"] == \"SvenGret-1990-\"][\"Charpy temperature / deg C\"].mean()"
   ]
  },
  {
   "cell_type": "code",
   "execution_count": null,
   "id": "56c385d7-c66b-42c6-8a91-69d7c821bf80",
   "metadata": {},
   "outputs": [],
   "source": [
    "df.loc[df[\"Common_Prefix\"] == \"SvenGret-1990-\", \"Charpy impact toughness / J\"] = df.loc[\n",
    "    df[\"Common_Prefix\"] == \"SvenGret-1990-\", \"Charpy impact toughness / J\"\n",
    "].fillna(sven_charpyJ)\n",
    "df.loc[df[\"Common_Prefix\"] == \"SvenGret-1990-\", \"Charpy temperature / deg C\"] = df.loc[\n",
    "    df[\"Common_Prefix\"] == \"SvenGret-1990-\", \"Charpy temperature / deg C\"\n",
    "].fillna(sven_charpyC)"
   ]
  },
  {
   "cell_type": "code",
   "execution_count": null,
   "id": "134a0874-2bdd-4009-bc8f-5b6023a062f7",
   "metadata": {},
   "outputs": [],
   "source": [
    "pat_charpyJ = df[df[\"Common_Prefix\"] == \"Pat-1981-\"][\"Charpy impact toughness / J\"].mean()\n",
    "pat_charpyC = df[df[\"Common_Prefix\"] == \"Pat-1981-\"][\"Charpy temperature / deg C\"].mean()"
   ]
  },
  {
   "cell_type": "code",
   "execution_count": null,
   "id": "a87a283f-713f-4f69-8fc4-04b79d0f0327",
   "metadata": {},
   "outputs": [],
   "source": [
    "df.loc[df[\"Common_Prefix\"] == \"Pat-1981-\", \"Charpy impact toughness / J\"] = df.loc[\n",
    "    df[\"Common_Prefix\"] == \"Pat-1981-\", \"Charpy impact toughness / J\"\n",
    "].fillna(pat_charpyJ)\n",
    "df.loc[df[\"Common_Prefix\"] == \"Pat-1981-\", \"Charpy temperature / deg C\"] = df.loc[\n",
    "    df[\"Common_Prefix\"] == \"Pat-1981-\", \"Charpy temperature / deg C\"\n",
    "].fillna(pat_charpyC)"
   ]
  },
  {
   "cell_type": "code",
   "execution_count": null,
   "id": "3e18fd20-8fb8-4d7e-a74d-852542156cc6",
   "metadata": {},
   "outputs": [],
   "source": [
    "df[df[\"Common_Prefix\"] == \"EvHtIp1979-\"][\"Charpy impact toughness / J\"].mean()"
   ]
  },
  {
   "cell_type": "code",
   "execution_count": null,
   "id": "63ba0f2d-33b1-420a-8a53-fae9be6a566a",
   "metadata": {},
   "outputs": [],
   "source": [
    "evht_charpyJ = df[df[\"Common_Prefix\"] == \"EvHtIp1979-\"][\"Charpy impact toughness / J\"].mean()\n",
    "evht_charpyC = df[df[\"Common_Prefix\"] == \"EvHtIp1979-\"][\"Charpy temperature / deg C\"].mean()"
   ]
  },
  {
   "cell_type": "code",
   "execution_count": null,
   "id": "27ac8e26-af73-4032-a38d-4ed34b64d17b",
   "metadata": {},
   "outputs": [],
   "source": [
    "df.loc[df[\"Common_Prefix\"] == \"EvHtIp1979-\", \"Charpy impact toughness / J\"] = df.loc[\n",
    "    df[\"Common_Prefix\"] == \"EvHtIp1979-\", \"Charpy impact toughness / J\"\n",
    "].fillna(evht_charpyJ)\n",
    "df.loc[df[\"Common_Prefix\"] == \"EvHtIp1979-\", \"Charpy temperature / deg C\"] = df.loc[\n",
    "    df[\"Common_Prefix\"] == \"EvHtIp1979-\", \"Charpy temperature / deg C\"\n",
    "].fillna(evht_charpyC)"
   ]
  },
  {
   "cell_type": "code",
   "execution_count": null,
   "id": "612a9c28-7a1c-474d-aa89-0688c0f11e42",
   "metadata": {},
   "outputs": [],
   "source": [
    "df[df[\"Common_Prefix\"] == \"Icici&-1992-\"][\"Charpy impact toughness / J\"].mean()"
   ]
  },
  {
   "cell_type": "code",
   "execution_count": null,
   "id": "7416ff8f-f70a-4a29-9c93-fd07537704ba",
   "metadata": {},
   "outputs": [],
   "source": [
    "ici_charpyJ = df[df[\"Common_Prefix\"] == \"Icici&-1992-\"][\"Charpy impact toughness / J\"].mean()\n",
    "ici_charpyC = df[df[\"Common_Prefix\"] == \"Icici&-1992-\"][\"Charpy temperature / deg C\"].mean()"
   ]
  },
  {
   "cell_type": "code",
   "execution_count": null,
   "id": "06c1a3f2-919e-4ee5-9a30-dea16730c7d7",
   "metadata": {},
   "outputs": [],
   "source": [
    "df.loc[df[\"Common_Prefix\"] == \"Icici&-1992-\", \"Charpy impact toughness / J\"] = df.loc[\n",
    "    df[\"Common_Prefix\"] == \"Icici&-1992-\", \"Charpy impact toughness / J\"\n",
    "].fillna(ici_charpyJ)\n",
    "df.loc[df[\"Common_Prefix\"] == \"Icici&-1992-\", \"Charpy temperature / deg C\"] = df.loc[\n",
    "    df[\"Common_Prefix\"] == \"Icici&-1992-\", \"Charpy temperature / deg C\"\n",
    "].fillna(ici_charpyC)"
   ]
  },
  {
   "cell_type": "code",
   "execution_count": null,
   "id": "2f5973d3-317c-4e98-af1f-e04d0874ca25",
   "metadata": {},
   "outputs": [],
   "source": [
    "df[df[\"Common_Prefix\"] == \"Blond&-1984-\"][\"Charpy impact toughness / J\"].mean()"
   ]
  },
  {
   "cell_type": "code",
   "execution_count": null,
   "id": "a398ba47-ff7d-4740-b101-8223a4f50c2e",
   "metadata": {},
   "outputs": [],
   "source": [
    "bld_charpyJ = df[df[\"Common_Prefix\"] == \"Blond&-1984-\"][\"Charpy impact toughness / J\"].mean()\n",
    "bld_charpyC = df[df[\"Common_Prefix\"] == \"Blond&-1984-\"][\"Charpy temperature / deg C\"].mean()"
   ]
  },
  {
   "cell_type": "code",
   "execution_count": null,
   "id": "9224f1d0-f20d-40fb-ba5e-8b6b34210b53",
   "metadata": {},
   "outputs": [],
   "source": [
    "df.loc[df[\"Common_Prefix\"] == \"Blond&-1984-\", \"Charpy impact toughness / J\"] = df.loc[\n",
    "    df[\"Common_Prefix\"] == \"Blond&-1984-\", \"Charpy impact toughness / J\"\n",
    "].fillna(bld_charpyJ)\n",
    "df.loc[df[\"Common_Prefix\"] == \"Blond&-1984-\", \"Charpy temperature / deg C\"] = df.loc[\n",
    "    df[\"Common_Prefix\"] == \"Blond&-1984-\", \"Charpy temperature / deg C\"\n",
    "].fillna(bld_charpyC)"
   ]
  },
  {
   "cell_type": "code",
   "execution_count": null,
   "id": "129a7b85-ef6e-4067-b13a-968c0f524a88",
   "metadata": {},
   "outputs": [],
   "source": [
    "df[df[\"Common_Prefix\"] == \"Mart-\"][\"Charpy impact toughness / J\"].mean()"
   ]
  },
  {
   "cell_type": "code",
   "execution_count": null,
   "id": "97b46fdb-65c8-4186-a575-e6262b695173",
   "metadata": {},
   "outputs": [],
   "source": [
    "mrt_charpyJ = df[df[\"Common_Prefix\"] == \"Mart-\"][\"Charpy impact toughness / J\"].mean()\n",
    "mrt_charpyC = df[df[\"Common_Prefix\"] == \"Mart-\"][\"Charpy temperature / deg C\"].mean()"
   ]
  },
  {
   "cell_type": "code",
   "execution_count": null,
   "id": "c1031ff0-bb67-4ec9-9fc1-1db1c6fbb549",
   "metadata": {},
   "outputs": [],
   "source": [
    "df.loc[df[\"Common_Prefix\"] == \"Mart-\", \"Charpy impact toughness / J\"] = df.loc[\n",
    "    df[\"Common_Prefix\"] == \"Mart-\", \"Charpy impact toughness / J\"\n",
    "].fillna(mrt_charpyJ)\n",
    "df.loc[df[\"Common_Prefix\"] == \"Mart-\", \"Charpy temperature / deg C\"] = df.loc[\n",
    "    df[\"Common_Prefix\"] == \"Mart-\", \"Charpy temperature / deg C\"\n",
    "].fillna(mrt_charpyC)"
   ]
  },
  {
   "cell_type": "code",
   "execution_count": null,
   "id": "6c45a44e-0baf-4c41-b55d-e7f0ff4d025b",
   "metadata": {},
   "outputs": [],
   "source": [
    "df[df[\"Common_Prefix\"] == \"Ditt-\"][\"Charpy impact toughness / J\"].mean()"
   ]
  },
  {
   "cell_type": "code",
   "execution_count": null,
   "id": "5778e9c3-afd6-465f-a5ca-9a3b9b04e51a",
   "metadata": {},
   "outputs": [],
   "source": [
    "ditt_charpyJ = df[df[\"Common_Prefix\"] == \"Ditt-\"][\"Charpy impact toughness / J\"].mean()\n",
    "ditt_charpyC = df[df[\"Common_Prefix\"] == \"Ditt-\"][\"Charpy temperature / deg C\"].mean()"
   ]
  },
  {
   "cell_type": "code",
   "execution_count": null,
   "id": "c67f00f6-3ffe-48cb-bcf6-7c22ec0bd36f",
   "metadata": {},
   "outputs": [],
   "source": [
    "df.loc[df[\"Common_Prefix\"] == \"Ditt-\", \"Charpy impact toughness / J\"] = df.loc[\n",
    "    df[\"Common_Prefix\"] == \"Ditt-\", \"Charpy impact toughness / J\"\n",
    "].fillna(ditt_charpyJ)\n",
    "df.loc[df[\"Common_Prefix\"] == \"Ditt-\", \"Charpy temperature / deg C\"] = df.loc[\n",
    "    df[\"Common_Prefix\"] == \"Ditt-\", \"Charpy temperature / deg C\"\n",
    "].fillna(ditt_charpyC)"
   ]
  },
  {
   "cell_type": "code",
   "execution_count": null,
   "id": "3b7db768-9ea7-4682-bc6f-3430dd69746f",
   "metadata": {},
   "outputs": [],
   "source": [
    "df[df[\"Common_Prefix\"] == \"Chandel&-1985W\"][\"Charpy impact toughness / J\"].mean()"
   ]
  },
  {
   "cell_type": "code",
   "execution_count": null,
   "id": "f4e4c6d1-cb6c-4dae-a424-77d2ea03a144",
   "metadata": {},
   "outputs": [],
   "source": [
    "chdl_charpyJ = df[df[\"Common_Prefix\"] == \"Chandel&-1985W\"][\"Charpy impact toughness / J\"].mean()\n",
    "chdl_charpyC = df[df[\"Common_Prefix\"] == \"Chandel&-1985W\"][\"Charpy temperature / deg C\"].mean()"
   ]
  },
  {
   "cell_type": "code",
   "execution_count": null,
   "id": "3e04d928-e3d4-4a1b-ade4-ee5dba9fdc0c",
   "metadata": {},
   "outputs": [],
   "source": [
    "df.loc[df[\"Common_Prefix\"] == \"Chandel&-1985W\", \"Charpy impact toughness / J\"] = df.loc[\n",
    "    df[\"Common_Prefix\"] == \"Chandel&-1985W\", \"Charpy impact toughness / J\"\n",
    "].fillna(chdl_charpyJ)\n",
    "df.loc[df[\"Common_Prefix\"] == \"Chandel&-1985W\", \"Charpy temperature / deg C\"] = df.loc[\n",
    "    df[\"Common_Prefix\"] == \"Chandel&-1985W\", \"Charpy temperature / deg C\"\n",
    "].fillna(chdl_charpyC)"
   ]
  },
  {
   "cell_type": "code",
   "execution_count": null,
   "id": "009a4830-864f-4abe-94ac-bbde885f118f",
   "metadata": {},
   "outputs": [],
   "source": [
    "df[\"Charpy impact toughness / J\"] = df[\"Charpy impact toughness / J\"].fillna(\n",
    "    df[\"Charpy impact toughness / J\"].mean()\n",
    ")\n",
    "df[\"Charpy temperature / deg C\"] = df[\"Charpy temperature / deg C\"].fillna(\n",
    "    df[\"Charpy temperature / deg C\"].mean()\n",
    ")"
   ]
  },
  {
   "cell_type": "markdown",
   "id": "cef555d2-935f-40dc-a7b4-2517b725554d",
   "metadata": {
    "jp-MarkdownHeadingCollapsed": true
   },
   "source": [
    "### III. Missing Values: features to delete ###"
   ]
  },
  {
   "cell_type": "code",
   "execution_count": null,
   "id": "fb0e20ad-981c-4e55-a8e2-b046cd45cf20",
   "metadata": {},
   "outputs": [],
   "source": [
    "# 50 % FATT                                                1621\n",
    "# Primary ferrite in microstructure / %                    1554\n",
    "# Ferrite with second phase / %                            1562\n",
    "# Acicular ferrite / %                                     1562\n",
    "# Martensite / %                                           1563\n",
    "# Ferrite with carbide aggregate / %                       1563"
   ]
  },
  {
   "cell_type": "code",
   "execution_count": null,
   "id": "8fcb666b-c3d2-467a-bc52-33b3dce66766",
   "metadata": {},
   "outputs": [],
   "source": [
    "df = df.drop(\n",
    "    columns=[\n",
    "        \"50 % FATT\",\n",
    "        \"Primary ferrite in microstructure / %\",\n",
    "        \"Ferrite with second phase / %\",\n",
    "        \"Acicular ferrite / %\",\n",
    "        \"Martensite / %\",\n",
    "        \"Ferrite with carbide aggregate / %\",\n",
    "    ]\n",
    ")"
   ]
  },
  {
   "cell_type": "code",
   "execution_count": null,
   "id": "c2dac8ad-031c-4dc5-a4e1-4ac0908aa03d",
   "metadata": {},
   "outputs": [],
   "source": [
    "df"
   ]
  },
  {
   "cell_type": "markdown",
   "id": "d481677f-78bf-4759-a1f2-62a8158f12ca",
   "metadata": {
    "jp-MarkdownHeadingCollapsed": true
   },
   "source": [
    "### III.Missing values: Résumé ###"
   ]
  },
  {
   "cell_type": "code",
   "execution_count": null,
   "id": "da25541d-e9a4-4170-a3b4-7c32761c69c1",
   "metadata": {},
   "outputs": [],
   "source": [
    "df.isnull().sum()"
   ]
  },
  {
   "cell_type": "markdown",
   "id": "96b95ce4-0820-4cb1-804b-75505b417b3e",
   "metadata": {},
   "source": [
    "# Les variables cibles : \n",
    "\n",
    "- **Yield strength** / MPa\n",
    "- **Ultimate tensile strength** / MPa\n",
    "- **Elongation** / %\n",
    "- **Reduction of Area** / %\n",
    "- **Hardness** / kg/mm²\n"
   ]
  },
  {
   "cell_type": "markdown",
   "id": "a9972313-b0f1-4423-b4fa-bec2e9200f20",
   "metadata": {
    "jp-MarkdownHeadingCollapsed": true
   },
   "source": [
    "## IV. Variables Catégoriques ##"
   ]
  },
  {
   "cell_type": "markdown",
   "id": "7e87deb0-5353-47c9-be0a-25d90d4f2229",
   "metadata": {
    "jp-MarkdownHeadingCollapsed": true
   },
   "source": [
    "### IV. Variables Catégoriques : Introduction"
   ]
  },
  {
   "cell_type": "code",
   "execution_count": null,
   "id": "7de7ca07-02d8-4e9b-95d1-6d8a22ed758a",
   "metadata": {},
   "outputs": [],
   "source": [
    "df.columns"
   ]
  },
  {
   "cell_type": "code",
   "execution_count": null,
   "id": "51b53511-2a79-4834-b7ee-1af434e487f7",
   "metadata": {},
   "outputs": [],
   "source": [
    "#  'AC or DC'\n",
    "# 'Electrode positive or negative'\n",
    "# 'Type of weld'\n",
    "# Sont des variables catégoriques"
   ]
  },
  {
   "cell_type": "markdown",
   "id": "ed32a02e-9c9b-457b-84a0-639ad752e887",
   "metadata": {
    "jp-MarkdownHeadingCollapsed": true
   },
   "source": [
    "### IV. Variables Catégoriques : AC or DC"
   ]
  },
  {
   "cell_type": "code",
   "execution_count": null,
   "id": "04d49c7b-3bf3-4cef-9ec5-46ac35758861",
   "metadata": {},
   "outputs": [],
   "source": [
    "df[\"AC or DC\"].value_counts()"
   ]
  },
  {
   "cell_type": "code",
   "execution_count": null,
   "id": "7ed42a46-d75b-4e3b-974f-3bab5ba6b69a",
   "metadata": {},
   "outputs": [],
   "source": [
    "df_encoded_1 = pd.get_dummies(df, columns=[\"AC or DC\"])"
   ]
  },
  {
   "cell_type": "code",
   "execution_count": null,
   "id": "5a5e2a86-806c-404b-a4bf-3382e7a29a05",
   "metadata": {},
   "outputs": [],
   "source": [
    "df_encoded_1.columns"
   ]
  },
  {
   "cell_type": "code",
   "execution_count": null,
   "id": "d54fd410-6eb0-42c5-b8f2-b172346af7ee",
   "metadata": {},
   "outputs": [],
   "source": [
    "df_encoded_1.drop(columns=[\"AC or DC_o\"], inplace=True)"
   ]
  },
  {
   "cell_type": "markdown",
   "id": "d7e093fe-6837-4269-bb90-b59945abffd5",
   "metadata": {
    "jp-MarkdownHeadingCollapsed": true
   },
   "source": [
    "### IV. Variables Catégoriques : 'Electrode positive or negative'"
   ]
  },
  {
   "cell_type": "code",
   "execution_count": null,
   "id": "d8f17f3d-a861-45a3-bdba-3ea030973127",
   "metadata": {},
   "outputs": [],
   "source": [
    "df[\"Electrode positive or negative\"].value_counts()"
   ]
  },
  {
   "cell_type": "code",
   "execution_count": null,
   "id": "8e956b52-7cdf-4ce1-8f2e-cbdc3451d84f",
   "metadata": {},
   "outputs": [],
   "source": [
    "df_encoded_2 = pd.get_dummies(df_encoded_1, columns=[\"Electrode positive or negative\"])"
   ]
  },
  {
   "cell_type": "code",
   "execution_count": null,
   "id": "b8296546-80bb-4895-86a6-50466c0c17af",
   "metadata": {},
   "outputs": [],
   "source": [
    "df_encoded_2.columns"
   ]
  },
  {
   "cell_type": "code",
   "execution_count": null,
   "id": "76f8833f-4483-4062-a1c6-14226899044b",
   "metadata": {},
   "outputs": [],
   "source": [
    "df_encoded_2.drop(columns=[\"Electrode positive or negative_-\"], inplace=True)"
   ]
  },
  {
   "cell_type": "markdown",
   "id": "3b6e6a41-adf1-4904-ac58-39c36ec7b53b",
   "metadata": {
    "jp-MarkdownHeadingCollapsed": true
   },
   "source": [
    "### IV. Variables Catégoriques : 'Type of Weld'"
   ]
  },
  {
   "cell_type": "code",
   "execution_count": null,
   "id": "6538d923-e154-4065-901d-630a3214b8ca",
   "metadata": {},
   "outputs": [],
   "source": [
    "df[\"Type of weld\"].value_counts()"
   ]
  },
  {
   "cell_type": "code",
   "execution_count": null,
   "id": "b15e7715-8432-4cc2-96d8-fe4b914e2d90",
   "metadata": {},
   "outputs": [],
   "source": [
    "df_encoded = pd.get_dummies(df_encoded_2, columns=[\"Type of weld\"])"
   ]
  },
  {
   "cell_type": "code",
   "execution_count": null,
   "id": "0643373e-c0b3-4d1d-86e5-4afd02024de8",
   "metadata": {},
   "outputs": [],
   "source": [
    "df_encoded.columns"
   ]
  },
  {
   "cell_type": "code",
   "execution_count": null,
   "id": "ee9c4762-f33e-4db1-a230-d2873bb20e28",
   "metadata": {},
   "outputs": [],
   "source": [
    "df_encoded.drop(columns=[\"Type of weld_GMAA\"], inplace=True)"
   ]
  },
  {
   "cell_type": "markdown",
   "id": "a0aa282a-b919-47f9-b173-7fe69ba61654",
   "metadata": {
    "jp-MarkdownHeadingCollapsed": true
   },
   "source": [
    "## V. Analyse des composantes principales: ACP"
   ]
  },
  {
   "cell_type": "markdown",
   "id": "a78ec1e4-72b2-42c6-bacd-365637efcd6f",
   "metadata": {
    "jp-MarkdownHeadingCollapsed": true
   },
   "source": [
    "### V. ACP : drop les variables cibles"
   ]
  },
  {
   "cell_type": "code",
   "execution_count": null,
   "id": "526a588e-ee90-4bfc-9f4b-66e08fb1b399",
   "metadata": {},
   "outputs": [],
   "source": [
    "df_encoded.columns"
   ]
  },
  {
   "cell_type": "code",
   "execution_count": null,
   "id": "d5ee55fc-706d-4101-bac1-768fa4a38529",
   "metadata": {},
   "outputs": [],
   "source": [
    "X = df_encoded[\n",
    "    [\n",
    "        \"Carbon concentration / (weight%)\",\n",
    "        \"Silicon concentration / (weight%)\",\n",
    "        \"Manganese concentration / (weight%)\",\n",
    "        \"Sulphur concentration / (weight%)\",\n",
    "        \"Phosphorus concentration / (weight%)\",\n",
    "        \"Nickel concentration / (weight%)\",\n",
    "        \"Chromium concentration / (weight%)\",\n",
    "        \"Molybdenum concentration / (weight%)\",\n",
    "        \"Vanadium concentration / (weight%)\",\n",
    "        \"Copper concentration / (weight%)\",\n",
    "        \"Cobalt concentration / (weight%)\",\n",
    "        \"Tungsten concentration / (weight%)\",\n",
    "        \"Oxygen concentration / parts per million by weight\",\n",
    "        \"Titanium concentration / parts per million by weight\",\n",
    "        \"Nitrogen concentration / parts per million by weight\",\n",
    "        \"Aluminium concentration / parts per million by weight\",\n",
    "        \"Boron concentration / parts per million by weight\",\n",
    "        \"Niobium concentration / parts per million by weight\",\n",
    "        \"Tin concentration / parts per million by weight\",\n",
    "        \"Arsenic concentration / parts per million by weight\",\n",
    "        \"Antimony concentration / parts per million by weight\",\n",
    "        \"Current / A\",\n",
    "        \"Voltage / V\",\n",
    "        \"Heat input / kJ/mm\",\n",
    "        \"Interpass temperature / deg C\",\n",
    "        \"Post weld heat treatment temperature / deg C\",\n",
    "        \"Post weld heat treatment time / hours\",\n",
    "        \"Charpy temperature / deg C\",\n",
    "        \"Charpy impact toughness / J\",\n",
    "        \"AC or DC_AC\",\n",
    "        \"AC or DC_DC\",\n",
    "        \"Electrode positive or negative_+\",\n",
    "        \"Electrode positive or negative_0\",\n",
    "        \"Type of weld_FCA\",\n",
    "        \"Type of weld_GTAA\",\n",
    "        \"Type of weld_MMA\",\n",
    "        \"Type of weld_NGGMA\",\n",
    "        \"Type of weld_NGSAW\",\n",
    "        \"Type of weld_SA\",\n",
    "        \"Type of weld_SAA\",\n",
    "        \"Type of weld_ShMA\",\n",
    "        \"Type of weld_TSA\",\n",
    "    ]\n",
    "]"
   ]
  },
  {
   "cell_type": "code",
   "execution_count": null,
   "id": "dad264cf-e6c5-4709-a96d-9484110cafa2",
   "metadata": {},
   "outputs": [],
   "source": [
    "y = df_encoded[\n",
    "    [\n",
    "        \"Yield strength / MPa\",\n",
    "        \"Ultimate tensile strength / MPa\",\n",
    "        \"Elongation / %\",\n",
    "        \"Reduction of Area / %\",\n",
    "        \"Hardness / kg/mm2\",\n",
    "    ]\n",
    "]"
   ]
  },
  {
   "cell_type": "markdown",
   "id": "b855dc18-1849-4a4f-ac02-638fb08ded76",
   "metadata": {
    "jp-MarkdownHeadingCollapsed": true
   },
   "source": [
    "### V. ACP : standardisation"
   ]
  },
  {
   "cell_type": "code",
   "execution_count": null,
   "id": "635d2ddd-a040-4354-9539-965fe8feba3f",
   "metadata": {},
   "outputs": [],
   "source": [
    "def replace_range_with_avg(value):\n",
    "    if isinstance(value, str) and \"-\" in value:\n",
    "        try:\n",
    "            # Séparer les deux nombres et calculer la moyenne\n",
    "            numbers = list(map(float, value.split(\"-\")))\n",
    "            return sum(numbers) / len(numbers)\n",
    "        except ValueError:\n",
    "            return value  # Si ce n'est pas un format attendu, garder la valeur originale\n",
    "    else:\n",
    "        return value  # Si ce n'est pas une chaîne au format '150-200', garder la valeur originale\n",
    "\n",
    "\n",
    "# Appliquer la fonction sur toutes les colonnes du DataFrame\n",
    "X = X.applymap(replace_range_with_avg)"
   ]
  },
  {
   "cell_type": "code",
   "execution_count": null,
   "id": "28257f64-d387-4d50-a418-a4b81799947b",
   "metadata": {},
   "outputs": [],
   "source": [
    "# Standardisation des données (important pour la PCA)\n",
    "scaler = StandardScaler()\n",
    "X_scaled_28 = scaler.fit_transform(\n",
    "    X[\n",
    "        [\n",
    "            \"Carbon concentration / (weight%)\",\n",
    "            \"Silicon concentration / (weight%)\",\n",
    "            \"Manganese concentration / (weight%)\",\n",
    "            \"Sulphur concentration / (weight%)\",\n",
    "            \"Phosphorus concentration / (weight%)\",\n",
    "            \"Nickel concentration / (weight%)\",\n",
    "            \"Chromium concentration / (weight%)\",\n",
    "            \"Molybdenum concentration / (weight%)\",\n",
    "            \"Vanadium concentration / (weight%)\",\n",
    "            \"Copper concentration / (weight%)\",\n",
    "            \"Cobalt concentration / (weight%)\",\n",
    "            \"Tungsten concentration / (weight%)\",\n",
    "            \"Oxygen concentration / parts per million by weight\",\n",
    "            \"Titanium concentration / parts per million by weight\",\n",
    "            \"Nitrogen concentration / parts per million by weight\",\n",
    "            \"Aluminium concentration / parts per million by weight\",\n",
    "            \"Boron concentration / parts per million by weight\",\n",
    "            \"Niobium concentration / parts per million by weight\",\n",
    "            \"Tin concentration / parts per million by weight\",\n",
    "            \"Arsenic concentration / parts per million by weight\",\n",
    "            \"Antimony concentration / parts per million by weight\",\n",
    "            \"Current / A\",\n",
    "            \"Voltage / V\",\n",
    "            \"Heat input / kJ/mm\",\n",
    "            \"Interpass temperature / deg C\",\n",
    "            \"Post weld heat treatment temperature / deg C\",\n",
    "            \"Post weld heat treatment time / hours\",\n",
    "            \"Charpy temperature / deg C\",\n",
    "            \"Charpy impact toughness / J\",\n",
    "        ]\n",
    "    ]\n",
    ")"
   ]
  },
  {
   "cell_type": "code",
   "execution_count": null,
   "id": "d1ed65ff-c0b8-4183-968b-e26283ee20ec",
   "metadata": {},
   "outputs": [],
   "source": [
    "X[\n",
    "    [\n",
    "        \"Carbon concentration / (weight%)\",\n",
    "        \"Silicon concentration / (weight%)\",\n",
    "        \"Manganese concentration / (weight%)\",\n",
    "        \"Sulphur concentration / (weight%)\",\n",
    "        \"Phosphorus concentration / (weight%)\",\n",
    "        \"Nickel concentration / (weight%)\",\n",
    "        \"Chromium concentration / (weight%)\",\n",
    "        \"Molybdenum concentration / (weight%)\",\n",
    "        \"Vanadium concentration / (weight%)\",\n",
    "        \"Copper concentration / (weight%)\",\n",
    "        \"Cobalt concentration / (weight%)\",\n",
    "        \"Tungsten concentration / (weight%)\",\n",
    "        \"Oxygen concentration / parts per million by weight\",\n",
    "        \"Titanium concentration / parts per million by weight\",\n",
    "        \"Nitrogen concentration / parts per million by weight\",\n",
    "        \"Aluminium concentration / parts per million by weight\",\n",
    "        \"Boron concentration / parts per million by weight\",\n",
    "        \"Niobium concentration / parts per million by weight\",\n",
    "        \"Tin concentration / parts per million by weight\",\n",
    "        \"Arsenic concentration / parts per million by weight\",\n",
    "        \"Antimony concentration / parts per million by weight\",\n",
    "        \"Current / A\",\n",
    "        \"Voltage / V\",\n",
    "        \"Heat input / kJ/mm\",\n",
    "        \"Interpass temperature / deg C\",\n",
    "        \"Post weld heat treatment temperature / deg C\",\n",
    "        \"Post weld heat treatment time / hours\",\n",
    "        \"Charpy temperature / deg C\",\n",
    "        \"Charpy impact toughness / J\",\n",
    "    ]\n",
    "] = X_scaled_28"
   ]
  },
  {
   "cell_type": "markdown",
   "id": "46d62657-3cc5-4955-8f9c-6ac230e68737",
   "metadata": {
    "jp-MarkdownHeadingCollapsed": true
   },
   "source": [
    "### V. ACP : Choix du nombre de composants"
   ]
  },
  {
   "cell_type": "code",
   "execution_count": null,
   "id": "b3e6c9bc-e0c4-4354-97ef-7fc5501a8fbb",
   "metadata": {},
   "outputs": [],
   "source": [
    "# Appliquer la PCA\n",
    "pca = PCA()  # Laisser scikit-learn décider du nombre maximal de composantes\n",
    "pca.fit(X)\n",
    "\n",
    "# Variance expliquée par chaque composante\n",
    "explained_variance_ratio = pca.explained_variance_ratio_\n",
    "\n",
    "# Calcul de la variance cumulée\n",
    "explained_variance_cumulative = np.cumsum(explained_variance_ratio)\n",
    "\n",
    "# Tracer le graphe\n",
    "plt.figure(figsize=(8, 5))\n",
    "plt.plot(\n",
    "    range(1, len(explained_variance_cumulative) + 1),\n",
    "    explained_variance_cumulative,\n",
    "    marker=\"\",\n",
    "    linestyle=\"-\",\n",
    ")\n",
    "plt.title(\"Variance expliquée cumulée en fonction du nombre de composantes principales\")\n",
    "plt.xlabel(\"Nombre de composantes principales\")\n",
    "plt.ylabel(\"Variance expliquée cumulée\")\n",
    "plt.grid(True)\n",
    "plt.show()"
   ]
  },
  {
   "cell_type": "code",
   "execution_count": null,
   "id": "d5710b43-ba53-4287-b3a7-7a8a24d97e71",
   "metadata": {},
   "outputs": [],
   "source": [
    "# 25 composantes peut expliquer plus de 90% des données"
   ]
  },
  {
   "cell_type": "markdown",
   "id": "f239ed8c-deca-43d3-acf9-8a0582d9e0a4",
   "metadata": {},
   "source": [
    "### V. ACP"
   ]
  },
  {
   "cell_type": "code",
   "execution_count": null,
   "id": "49b2db38-d92a-4e53-b427-57c6083526b7",
   "metadata": {},
   "outputs": [],
   "source": [
    "# Appliquer la PCA\n",
    "pca = PCA(n_components=25)  # Laisser scikit-learn décider du nombre maximal de composantes\n",
    "pca.fit(X)\n",
    "pca_result = pca.transform(X)\n",
    "# Créer un DataFrame pour les résultats de la PCA\n",
    "pca_X = pd.DataFrame(\n",
    "    pca_result,\n",
    "    columns=[\n",
    "        \"PC1\",\n",
    "        \"PC2\",\n",
    "        \"PC3\",\n",
    "        \"PC4\",\n",
    "        \"PC5\",\n",
    "        \"PC6\",\n",
    "        \"PC7\",\n",
    "        \"PC8\",\n",
    "        \"PC9\",\n",
    "        \"PC10\",\n",
    "        \"PC11\",\n",
    "        \"PC12\",\n",
    "        \"PC13\",\n",
    "        \"PC14\",\n",
    "        \"PC15\",\n",
    "        \"PC16\",\n",
    "        \"PC17\",\n",
    "        \"PC18\",\n",
    "        \"PC19\",\n",
    "        \"PC20\",\n",
    "        \"PC21\",\n",
    "        \"PC22\",\n",
    "        \"PC23\",\n",
    "        \"PC24\",\n",
    "        \"PC25\",\n",
    "    ],\n",
    ")\n",
    "\n",
    "# Afficher les résultats\n",
    "pca_X"
   ]
  },
  {
   "cell_type": "code",
   "execution_count": null,
   "id": "9deaff44-1cca-4bb3-881e-22e597c1b705",
   "metadata": {},
   "outputs": [],
   "source": [
    "print(\"Variance expliquée cumulée par chaque composante :\", pca.explained_variance_ratio_.sum())"
   ]
  },
  {
   "cell_type": "code",
   "execution_count": null,
   "id": "8d1701b1-f83b-46d8-8fe2-4dc0b1727f88",
   "metadata": {},
   "outputs": [],
   "source": []
  }
 ],
 "metadata": {
  "kernelspec": {
   "display_name": "Python 3 (ipykernel)",
   "language": "python",
   "name": "python3"
  },
  "language_info": {
   "codemirror_mode": {
    "name": "ipython",
    "version": 3
   },
   "file_extension": ".py",
   "mimetype": "text/x-python",
   "name": "python",
   "nbconvert_exporter": "python",
   "pygments_lexer": "ipython3",
   "version": "3.12.4"
  }
 },
 "nbformat": 4,
 "nbformat_minor": 5
}
